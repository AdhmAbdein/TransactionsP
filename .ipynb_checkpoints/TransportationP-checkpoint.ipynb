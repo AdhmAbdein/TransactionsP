{
 "cells": [
  {
   "cell_type": "code",
   "execution_count": 1,
   "id": "1df7a917",
   "metadata": {},
   "outputs": [],
   "source": [
    "import numpy as np\n",
    "import pandas as pd\n",
    "import matplotlib.pyplot as plt\n",
    "import seaborn as sns"
   ]
  },
  {
   "cell_type": "code",
   "execution_count": 2,
   "id": "f94e707a",
   "metadata": {},
   "outputs": [],
   "source": [
    "buses = pd.read_csv('datasets/buses.csv')\n",
    "demo = pd.read_csv('datasets/demographics.csv')\n",
    "ridership = pd.read_csv('datasets/ridership.csv')\n",
    "routes = pd.read_csv('datasets/routes.csv')\n"
   ]
  },
  {
   "cell_type": "code",
   "execution_count": 3,
   "id": "d3073a3b",
   "metadata": {},
   "outputs": [
    {
     "name": "stdout",
     "output_type": "stream",
     "text": [
      "<class 'pandas.core.frame.DataFrame'>\n",
      "RangeIndex: 40 entries, 0 to 39\n",
      "Data columns (total 4 columns):\n",
      " #   Column     Non-Null Count  Dtype \n",
      "---  ------     --------------  ----- \n",
      " 0   BusID      40 non-null     int64 \n",
      " 1   RouteID    40 non-null     int64 \n",
      " 2   BusNumber  40 non-null     object\n",
      " 3   Capacity   40 non-null     int64 \n",
      "dtypes: int64(3), object(1)\n",
      "memory usage: 1.4+ KB\n"
     ]
    }
   ],
   "source": [
    "buses.info()"
   ]
  },
  {
   "cell_type": "code",
   "execution_count": 8,
   "id": "788a7b36",
   "metadata": {},
   "outputs": [
    {
     "data": {
      "text/plain": [
       "count    40.000000\n",
       "mean     43.750000\n",
       "std      10.047962\n",
       "min      30.000000\n",
       "25%      40.000000\n",
       "50%      40.000000\n",
       "75%      50.000000\n",
       "max      60.000000\n",
       "Name: Capacity, dtype: float64"
      ]
     },
     "execution_count": 8,
     "metadata": {},
     "output_type": "execute_result"
    }
   ],
   "source": [
    "buses['Capacity'].describe()"
   ]
  },
  {
   "cell_type": "code",
   "execution_count": 5,
   "id": "4d6d5f3c",
   "metadata": {},
   "outputs": [
    {
     "name": "stdout",
     "output_type": "stream",
     "text": [
      "<class 'pandas.core.frame.DataFrame'>\n",
      "RangeIndex: 100 entries, 0 to 99\n",
      "Data columns (total 4 columns):\n",
      " #   Column      Non-Null Count  Dtype \n",
      "---  ------      --------------  ----- \n",
      " 0   RiderID     100 non-null    int64 \n",
      " 1   Age         100 non-null    int64 \n",
      " 2   Gender      100 non-null    object\n",
      " 3   Occupation  100 non-null    object\n",
      "dtypes: int64(2), object(2)\n",
      "memory usage: 3.3+ KB\n"
     ]
    }
   ],
   "source": [
    "demo.info()"
   ]
  },
  {
   "cell_type": "code",
   "execution_count": 10,
   "id": "064ddd2a",
   "metadata": {},
   "outputs": [
    {
     "data": {
      "text/plain": [
       "count    100.000000\n",
       "mean      42.690000\n",
       "std       15.007537\n",
       "min       16.000000\n",
       "25%       31.750000\n",
       "50%       42.000000\n",
       "75%       55.000000\n",
       "max       70.000000\n",
       "Name: Age, dtype: float64"
      ]
     },
     "execution_count": 10,
     "metadata": {},
     "output_type": "execute_result"
    }
   ],
   "source": [
    "demo['Age'].describe()"
   ]
  },
  {
   "cell_type": "code",
   "execution_count": 6,
   "id": "e616c58c",
   "metadata": {},
   "outputs": [
    {
     "name": "stdout",
     "output_type": "stream",
     "text": [
      "<class 'pandas.core.frame.DataFrame'>\n",
      "RangeIndex: 200 entries, 0 to 199\n",
      "Data columns (total 6 columns):\n",
      " #   Column          Non-Null Count  Dtype \n",
      "---  ------          --------------  ----- \n",
      " 0   RecordID        200 non-null    int64 \n",
      " 1   BusID           200 non-null    int64 \n",
      " 2   Date            200 non-null    object\n",
      " 3   Time            200 non-null    object\n",
      " 4   NumberOfRiders  200 non-null    int64 \n",
      " 5   RiderID         200 non-null    int64 \n",
      "dtypes: int64(4), object(2)\n",
      "memory usage: 9.5+ KB\n"
     ]
    }
   ],
   "source": [
    "ridership.info()"
   ]
  },
  {
   "cell_type": "code",
   "execution_count": 12,
   "id": "1d3279bf",
   "metadata": {},
   "outputs": [
    {
     "data": {
      "text/plain": [
       "count    200.000000\n",
       "mean      32.935000\n",
       "std       10.678997\n",
       "min       15.000000\n",
       "25%       25.000000\n",
       "50%       31.000000\n",
       "75%       40.000000\n",
       "max       60.000000\n",
       "Name: NumberOfRiders, dtype: float64"
      ]
     },
     "execution_count": 12,
     "metadata": {},
     "output_type": "execute_result"
    }
   ],
   "source": [
    "ridership['NumberOfRiders'].describe()"
   ]
  },
  {
   "cell_type": "code",
   "execution_count": 13,
   "id": "988d2558",
   "metadata": {},
   "outputs": [
    {
     "name": "stdout",
     "output_type": "stream",
     "text": [
      "<class 'pandas.core.frame.DataFrame'>\n",
      "RangeIndex: 10 entries, 0 to 9\n",
      "Data columns (total 7 columns):\n",
      " #   Column         Non-Null Count  Dtype \n",
      "---  ------         --------------  ----- \n",
      " 0   RouteID        10 non-null     int64 \n",
      " 1   RouteName      10 non-null     object\n",
      " 2   StartLocation  10 non-null     object\n",
      " 3   EndLocation    10 non-null     object\n",
      " 4   TripFee        10 non-null     int64 \n",
      " 5   TakeOffTime    10 non-null     object\n",
      " 6   ArrivalTime    10 non-null     object\n",
      "dtypes: int64(2), object(5)\n",
      "memory usage: 692.0+ bytes\n"
     ]
    }
   ],
   "source": [
    "routes.info()"
   ]
  },
  {
   "cell_type": "code",
   "execution_count": 15,
   "id": "9828a097",
   "metadata": {},
   "outputs": [
    {
     "data": {
      "text/plain": [
       "count    10.000000\n",
       "mean     26.800000\n",
       "std      11.321563\n",
       "min      13.000000\n",
       "25%      19.000000\n",
       "50%      24.000000\n",
       "75%      32.500000\n",
       "max      50.000000\n",
       "Name: TripFee, dtype: float64"
      ]
     },
     "execution_count": 15,
     "metadata": {},
     "output_type": "execute_result"
    }
   ],
   "source": [
    "routes['TripFee'].describe()"
   ]
  },
  {
   "cell_type": "code",
   "execution_count": 18,
   "id": "f6c84b5b",
   "metadata": {},
   "outputs": [],
   "source": [
    "ridership['Date']= pd.to_datetime(ridership['Date'])"
   ]
  },
  {
   "cell_type": "code",
   "execution_count": 20,
   "id": "7b27ee2e",
   "metadata": {},
   "outputs": [
    {
     "name": "stderr",
     "output_type": "stream",
     "text": [
      "C:\\Users\\fg_DELL\\AppData\\Local\\Temp\\ipykernel_5936\\2965914418.py:1: UserWarning: Could not infer format, so each element will be parsed individually, falling back to `dateutil`. To ensure parsing is consistent and as-expected, please specify a format.\n",
      "  ridership['Time']= pd.to_datetime(ridership['Time'])\n"
     ]
    }
   ],
   "source": [
    "ridership['Time']= pd.to_datetime(ridership['Time'])"
   ]
  },
  {
   "cell_type": "code",
   "execution_count": 25,
   "id": "643ea93a",
   "metadata": {},
   "outputs": [],
   "source": [
    "ridership['Time'] = ridership['Time'].dt.time"
   ]
  },
  {
   "cell_type": "code",
   "execution_count": 31,
   "id": "4435dee8",
   "metadata": {},
   "outputs": [
    {
     "name": "stderr",
     "output_type": "stream",
     "text": [
      "C:\\Users\\fg_DELL\\AppData\\Local\\Temp\\ipykernel_5936\\2733156114.py:2: UserWarning: Could not infer format, so each element will be parsed individually, falling back to `dateutil`. To ensure parsing is consistent and as-expected, please specify a format.\n",
      "  routes['ArrivalTime']= pd.to_datetime(routes['ArrivalTime'])\n"
     ]
    }
   ],
   "source": [
    "routes['TakeOffTime']= pd.to_datetime(routes['TakeOffTime'])\n",
    "routes['ArrivalTime']= pd.to_datetime(routes['ArrivalTime'])\n"
   ]
  },
  {
   "cell_type": "code",
   "execution_count": 32,
   "id": "7e26df58",
   "metadata": {},
   "outputs": [],
   "source": [
    "routes['TakeOffTime'] = routes['TakeOffTime'].dt.time\n",
    "routes['ArrivalTime'] = routes['ArrivalTime'].dt.time"
   ]
  },
  {
   "cell_type": "code",
   "execution_count": 35,
   "id": "9c362ed6",
   "metadata": {},
   "outputs": [
    {
     "data": {
      "text/plain": [
       "BusID        0\n",
       "RouteID      0\n",
       "BusNumber    0\n",
       "Capacity     0\n",
       "dtype: int64"
      ]
     },
     "execution_count": 35,
     "metadata": {},
     "output_type": "execute_result"
    }
   ],
   "source": [
    "buses.isna().sum()"
   ]
  },
  {
   "cell_type": "code",
   "execution_count": 36,
   "id": "ba261a4a",
   "metadata": {},
   "outputs": [
    {
     "data": {
      "text/plain": [
       "RouteID          0\n",
       "RouteName        0\n",
       "StartLocation    0\n",
       "EndLocation      0\n",
       "TripFee          0\n",
       "TakeOffTime      0\n",
       "ArrivalTime      0\n",
       "dtype: int64"
      ]
     },
     "execution_count": 36,
     "metadata": {},
     "output_type": "execute_result"
    }
   ],
   "source": [
    "routes.isna().sum()"
   ]
  },
  {
   "cell_type": "code",
   "execution_count": 37,
   "id": "4f30980e",
   "metadata": {},
   "outputs": [
    {
     "data": {
      "text/plain": [
       "RiderID       0\n",
       "Age           0\n",
       "Gender        0\n",
       "Occupation    0\n",
       "dtype: int64"
      ]
     },
     "execution_count": 37,
     "metadata": {},
     "output_type": "execute_result"
    }
   ],
   "source": [
    "demo.isna().sum()"
   ]
  },
  {
   "cell_type": "code",
   "execution_count": 38,
   "id": "6addf1fc",
   "metadata": {},
   "outputs": [
    {
     "data": {
      "text/plain": [
       "RecordID          0\n",
       "BusID             0\n",
       "Date              0\n",
       "Time              0\n",
       "NumberOfRiders    0\n",
       "RiderID           0\n",
       "dtype: int64"
      ]
     },
     "execution_count": 38,
     "metadata": {},
     "output_type": "execute_result"
    }
   ],
   "source": [
    "ridership.isna().sum()"
   ]
  },
  {
   "cell_type": "code",
   "execution_count": 39,
   "id": "8dbf872d",
   "metadata": {},
   "outputs": [
    {
     "data": {
      "text/plain": [
       "0"
      ]
     },
     "execution_count": 39,
     "metadata": {},
     "output_type": "execute_result"
    }
   ],
   "source": [
    "buses.duplicated(subset=[\"BusID\"]).sum()"
   ]
  },
  {
   "cell_type": "code",
   "execution_count": 41,
   "id": "ab82d213",
   "metadata": {},
   "outputs": [
    {
     "data": {
      "text/plain": [
       "0"
      ]
     },
     "execution_count": 41,
     "metadata": {},
     "output_type": "execute_result"
    }
   ],
   "source": [
    "routes.duplicated(subset=[\"RouteID\"]).sum()"
   ]
  },
  {
   "cell_type": "code",
   "execution_count": 42,
   "id": "a2272354",
   "metadata": {},
   "outputs": [
    {
     "data": {
      "text/plain": [
       "0"
      ]
     },
     "execution_count": 42,
     "metadata": {},
     "output_type": "execute_result"
    }
   ],
   "source": [
    "routes.duplicated(subset=[\"RouteID\"]).sum()"
   ]
  },
  {
   "cell_type": "code",
   "execution_count": 43,
   "id": "1644e0c5",
   "metadata": {},
   "outputs": [
    {
     "data": {
      "text/plain": [
       "0"
      ]
     },
     "execution_count": 43,
     "metadata": {},
     "output_type": "execute_result"
    }
   ],
   "source": [
    "ridership.duplicated(subset=[\"RecordID\"]).sum()"
   ]
  },
  {
   "cell_type": "markdown",
   "id": "3e4f4eca",
   "metadata": {},
   "source": [
    "# Analysing Data"
   ]
  },
  {
   "cell_type": "code",
   "execution_count": 44,
   "id": "21433d3e",
   "metadata": {},
   "outputs": [
    {
     "data": {
      "text/plain": [
       "40"
      ]
     },
     "execution_count": 44,
     "metadata": {},
     "output_type": "execute_result"
    }
   ],
   "source": [
    "# How many buses are there?\n",
    "\n",
    "len(buses)"
   ]
  },
  {
   "cell_type": "code",
   "execution_count": 46,
   "id": "f1f87bb0",
   "metadata": {},
   "outputs": [
    {
     "data": {
      "text/plain": [
       "44.0"
      ]
     },
     "execution_count": 46,
     "metadata": {},
     "output_type": "execute_result"
    }
   ],
   "source": [
    "# What is the average capacity of the buses?\n",
    "\n",
    "buses['Capacity'].mean().round()"
   ]
  },
  {
   "cell_type": "code",
   "execution_count": 50,
   "id": "9026027e",
   "metadata": {},
   "outputs": [
    {
     "data": {
      "text/plain": [
       "BusID            2\n",
       "RouteID          1\n",
       "BusNumber    Bus 2\n",
       "Capacity        60\n",
       "Name: 1, dtype: object"
      ]
     },
     "execution_count": 50,
     "metadata": {},
     "output_type": "execute_result"
    }
   ],
   "source": [
    "# Which bus has the highest capacity?\n",
    "\n",
    "buses.loc[buses['Capacity'].idxmax()]"
   ]
  },
  {
   "cell_type": "code",
   "execution_count": 51,
   "id": "026da0cf",
   "metadata": {},
   "outputs": [
    {
     "data": {
      "text/plain": [
       "10"
      ]
     },
     "execution_count": 51,
     "metadata": {},
     "output_type": "execute_result"
    }
   ],
   "source": [
    "# How many unique routes do the buses cover?\n",
    "\n",
    "buses['RouteID'].nunique()"
   ]
  },
  {
   "cell_type": "code",
   "execution_count": 52,
   "id": "065c90e6",
   "metadata": {},
   "outputs": [],
   "source": [
    "j1 = buses.merge(routes ,how ='inner' , on='RouteID')"
   ]
  },
  {
   "cell_type": "code",
   "execution_count": 54,
   "id": "cc7f0204",
   "metadata": {},
   "outputs": [
    {
     "data": {
      "text/plain": [
       "array(['University Line', 'Central Line', 'East-West Express',\n",
       "       'Suburban Line', 'Market Line', 'Airport Express',\n",
       "       'North Circular', 'Beachfront Route', 'City Shuttle', 'South Line'],\n",
       "      dtype=object)"
      ]
     },
     "execution_count": 54,
     "metadata": {},
     "output_type": "execute_result"
    }
   ],
   "source": [
    "j1['RouteName'].unique()"
   ]
  },
  {
   "cell_type": "code",
   "execution_count": 57,
   "id": "0c5d2678",
   "metadata": {},
   "outputs": [
    {
     "data": {
      "text/plain": [
       "BusNumber\n",
       "Bus 1     1\n",
       "Bus 2     1\n",
       "Bus 23    1\n",
       "Bus 24    1\n",
       "Bus 25    1\n",
       "Bus 26    1\n",
       "Bus 27    1\n",
       "Bus 28    1\n",
       "Bus 29    1\n",
       "Bus 30    1\n",
       "Bus 31    1\n",
       "Bus 32    1\n",
       "Bus 33    1\n",
       "Bus 34    1\n",
       "Bus 35    1\n",
       "Bus 36    1\n",
       "Bus 37    1\n",
       "Bus 38    1\n",
       "Bus 39    1\n",
       "Bus 22    1\n",
       "Bus 21    1\n",
       "Bus 20    1\n",
       "Bus 10    1\n",
       "Bus 3     1\n",
       "Bus 4     1\n",
       "Bus 5     1\n",
       "Bus 6     1\n",
       "Bus 7     1\n",
       "Bus 8     1\n",
       "Bus 9     1\n",
       "Bus 11    1\n",
       "Bus 19    1\n",
       "Bus 12    1\n",
       "Bus 13    1\n",
       "Bus 14    1\n",
       "Bus 15    1\n",
       "Bus 16    1\n",
       "Bus 17    1\n",
       "Bus 18    1\n",
       "Bus 40    1\n",
       "Name: count, dtype: int64"
      ]
     },
     "execution_count": 57,
     "metadata": {},
     "output_type": "execute_result"
    }
   ],
   "source": [
    "# What is the distribution of bus numbers?\n",
    "\n",
    "buses['BusNumber'].value_counts()"
   ]
  },
  {
   "cell_type": "code",
   "execution_count": 60,
   "id": "d4ac2449",
   "metadata": {},
   "outputs": [
    {
     "data": {
      "text/plain": [
       "RouteName\n",
       "East-West Express    8\n",
       "Central Line         7\n",
       "University Line      6\n",
       "Suburban Line        4\n",
       "Market Line          4\n",
       "Airport Express      3\n",
       "Beachfront Route     3\n",
       "North Circular       2\n",
       "City Shuttle         2\n",
       "South Line           1\n",
       "Name: count, dtype: int64"
      ]
     },
     "execution_count": 60,
     "metadata": {},
     "output_type": "execute_result"
    }
   ],
   "source": [
    "# How many buses are assigned to each route?\n",
    "\n",
    "j1['RouteName'].value_counts()"
   ]
  },
  {
   "cell_type": "code",
   "execution_count": 62,
   "id": "d61e32fd",
   "metadata": {},
   "outputs": [
    {
     "data": {
      "text/plain": [
       "43.0"
      ]
     },
     "execution_count": 62,
     "metadata": {},
     "output_type": "execute_result"
    }
   ],
   "source": [
    "# What is the average age of the riders?\n",
    "\n",
    "demo['Age'].mean().round()"
   ]
  },
  {
   "cell_type": "code",
   "execution_count": 67,
   "id": "584cdc06",
   "metadata": {},
   "outputs": [
    {
     "data": {
      "text/html": [
       "<div>\n",
       "<style scoped>\n",
       "    .dataframe tbody tr th:only-of-type {\n",
       "        vertical-align: middle;\n",
       "    }\n",
       "\n",
       "    .dataframe tbody tr th {\n",
       "        vertical-align: top;\n",
       "    }\n",
       "\n",
       "    .dataframe thead th {\n",
       "        text-align: right;\n",
       "    }\n",
       "</style>\n",
       "<table border=\"1\" class=\"dataframe\">\n",
       "  <thead>\n",
       "    <tr style=\"text-align: right;\">\n",
       "      <th></th>\n",
       "      <th>RiderID</th>\n",
       "    </tr>\n",
       "    <tr>\n",
       "      <th>Gender</th>\n",
       "      <th></th>\n",
       "    </tr>\n",
       "  </thead>\n",
       "  <tbody>\n",
       "    <tr>\n",
       "      <th>Female</th>\n",
       "      <td>35</td>\n",
       "    </tr>\n",
       "    <tr>\n",
       "      <th>Male</th>\n",
       "      <td>33</td>\n",
       "    </tr>\n",
       "    <tr>\n",
       "      <th>Other</th>\n",
       "      <td>32</td>\n",
       "    </tr>\n",
       "  </tbody>\n",
       "</table>\n",
       "</div>"
      ],
      "text/plain": [
       "        RiderID\n",
       "Gender         \n",
       "Female       35\n",
       "Male         33\n",
       "Other        32"
      ]
     },
     "execution_count": 67,
     "metadata": {},
     "output_type": "execute_result"
    }
   ],
   "source": [
    "# What is the gender distribution among the riders?\n",
    "\n",
    "demo.groupby('Gender').agg({'RiderID' : 'count'}).sort_values( by = 'RiderID' , ascending = False)"
   ]
  },
  {
   "cell_type": "code",
   "execution_count": 68,
   "id": "2080a295",
   "metadata": {},
   "outputs": [
    {
     "data": {
      "text/html": [
       "<div>\n",
       "<style scoped>\n",
       "    .dataframe tbody tr th:only-of-type {\n",
       "        vertical-align: middle;\n",
       "    }\n",
       "\n",
       "    .dataframe tbody tr th {\n",
       "        vertical-align: top;\n",
       "    }\n",
       "\n",
       "    .dataframe thead th {\n",
       "        text-align: right;\n",
       "    }\n",
       "</style>\n",
       "<table border=\"1\" class=\"dataframe\">\n",
       "  <thead>\n",
       "    <tr style=\"text-align: right;\">\n",
       "      <th></th>\n",
       "      <th>RiderID</th>\n",
       "    </tr>\n",
       "    <tr>\n",
       "      <th>Occupation</th>\n",
       "      <th></th>\n",
       "    </tr>\n",
       "  </thead>\n",
       "  <tbody>\n",
       "    <tr>\n",
       "      <th>Other</th>\n",
       "      <td>25</td>\n",
       "    </tr>\n",
       "    <tr>\n",
       "      <th>Professional</th>\n",
       "      <td>24</td>\n",
       "    </tr>\n",
       "    <tr>\n",
       "      <th>Self-Employed</th>\n",
       "      <td>20</td>\n",
       "    </tr>\n",
       "    <tr>\n",
       "      <th>Unemployed</th>\n",
       "      <td>15</td>\n",
       "    </tr>\n",
       "    <tr>\n",
       "      <th>Retired</th>\n",
       "      <td>8</td>\n",
       "    </tr>\n",
       "    <tr>\n",
       "      <th>Student</th>\n",
       "      <td>8</td>\n",
       "    </tr>\n",
       "  </tbody>\n",
       "</table>\n",
       "</div>"
      ],
      "text/plain": [
       "               RiderID\n",
       "Occupation            \n",
       "Other               25\n",
       "Professional        24\n",
       "Self-Employed       20\n",
       "Unemployed          15\n",
       "Retired              8\n",
       "Student              8"
      ]
     },
     "execution_count": 68,
     "metadata": {},
     "output_type": "execute_result"
    }
   ],
   "source": [
    "# What are the common occupations of the riders?\n",
    "\n",
    "demo.groupby('Occupation').agg({'RiderID' : 'count'}).sort_values( by = 'RiderID' , ascending = False)"
   ]
  },
  {
   "cell_type": "code",
   "execution_count": 74,
   "id": "c093037c",
   "metadata": {},
   "outputs": [
    {
     "data": {
      "text/plain": [
       "RiderID    Other\n",
       "dtype: object"
      ]
     },
     "execution_count": 74,
     "metadata": {},
     "output_type": "execute_result"
    }
   ],
   "source": [
    "demo.groupby('Occupation').agg({'RiderID' : 'count'}).sort_values( by = 'RiderID' , ascending = False).idxmax()"
   ]
  },
  {
   "cell_type": "code",
   "execution_count": 77,
   "id": "60d3f861",
   "metadata": {},
   "outputs": [
    {
     "data": {
      "text/plain": [
       "0    Other\n",
       "Name: Occupation, dtype: object"
      ]
     },
     "execution_count": 77,
     "metadata": {},
     "output_type": "execute_result"
    }
   ],
   "source": [
    "demo['Occupation'].mode()"
   ]
  },
  {
   "cell_type": "code",
   "execution_count": 70,
   "id": "13ee4a4e",
   "metadata": {},
   "outputs": [],
   "source": [
    "#Age group\n",
    "demo.loc[demo['Age']<=19, 'Age_group'] = 'teenage'\n",
    "demo.loc[demo['Age'].between(20,24), 'Age_group'] = 'yadult'\n",
    "demo.loc[demo['Age'].between(25,39), 'Age_group'] = 'adult'\n",
    "demo.loc[demo['Age']>39, 'Age_group'] = 'older_adult'"
   ]
  },
  {
   "cell_type": "code",
   "execution_count": 71,
   "id": "b660bd14",
   "metadata": {},
   "outputs": [
    {
     "data": {
      "text/html": [
       "<div>\n",
       "<style scoped>\n",
       "    .dataframe tbody tr th:only-of-type {\n",
       "        vertical-align: middle;\n",
       "    }\n",
       "\n",
       "    .dataframe tbody tr th {\n",
       "        vertical-align: top;\n",
       "    }\n",
       "\n",
       "    .dataframe thead th {\n",
       "        text-align: right;\n",
       "    }\n",
       "</style>\n",
       "<table border=\"1\" class=\"dataframe\">\n",
       "  <thead>\n",
       "    <tr style=\"text-align: right;\">\n",
       "      <th></th>\n",
       "      <th>RiderID</th>\n",
       "      <th>Age</th>\n",
       "      <th>Gender</th>\n",
       "      <th>Occupation</th>\n",
       "      <th>Age_group</th>\n",
       "    </tr>\n",
       "  </thead>\n",
       "  <tbody>\n",
       "    <tr>\n",
       "      <th>0</th>\n",
       "      <td>1</td>\n",
       "      <td>27</td>\n",
       "      <td>Other</td>\n",
       "      <td>Self-Employed</td>\n",
       "      <td>adult</td>\n",
       "    </tr>\n",
       "    <tr>\n",
       "      <th>1</th>\n",
       "      <td>2</td>\n",
       "      <td>39</td>\n",
       "      <td>Female</td>\n",
       "      <td>Self-Employed</td>\n",
       "      <td>adult</td>\n",
       "    </tr>\n",
       "    <tr>\n",
       "      <th>2</th>\n",
       "      <td>3</td>\n",
       "      <td>48</td>\n",
       "      <td>Female</td>\n",
       "      <td>Professional</td>\n",
       "      <td>older_adult</td>\n",
       "    </tr>\n",
       "    <tr>\n",
       "      <th>3</th>\n",
       "      <td>4</td>\n",
       "      <td>34</td>\n",
       "      <td>Male</td>\n",
       "      <td>Other</td>\n",
       "      <td>adult</td>\n",
       "    </tr>\n",
       "    <tr>\n",
       "      <th>4</th>\n",
       "      <td>5</td>\n",
       "      <td>33</td>\n",
       "      <td>Female</td>\n",
       "      <td>Self-Employed</td>\n",
       "      <td>adult</td>\n",
       "    </tr>\n",
       "    <tr>\n",
       "      <th>...</th>\n",
       "      <td>...</td>\n",
       "      <td>...</td>\n",
       "      <td>...</td>\n",
       "      <td>...</td>\n",
       "      <td>...</td>\n",
       "    </tr>\n",
       "    <tr>\n",
       "      <th>95</th>\n",
       "      <td>96</td>\n",
       "      <td>37</td>\n",
       "      <td>Male</td>\n",
       "      <td>Self-Employed</td>\n",
       "      <td>adult</td>\n",
       "    </tr>\n",
       "    <tr>\n",
       "      <th>96</th>\n",
       "      <td>97</td>\n",
       "      <td>53</td>\n",
       "      <td>Female</td>\n",
       "      <td>Other</td>\n",
       "      <td>older_adult</td>\n",
       "    </tr>\n",
       "    <tr>\n",
       "      <th>97</th>\n",
       "      <td>98</td>\n",
       "      <td>19</td>\n",
       "      <td>Other</td>\n",
       "      <td>Other</td>\n",
       "      <td>teenage</td>\n",
       "    </tr>\n",
       "    <tr>\n",
       "      <th>98</th>\n",
       "      <td>99</td>\n",
       "      <td>61</td>\n",
       "      <td>Male</td>\n",
       "      <td>Self-Employed</td>\n",
       "      <td>older_adult</td>\n",
       "    </tr>\n",
       "    <tr>\n",
       "      <th>99</th>\n",
       "      <td>100</td>\n",
       "      <td>54</td>\n",
       "      <td>Female</td>\n",
       "      <td>Unemployed</td>\n",
       "      <td>older_adult</td>\n",
       "    </tr>\n",
       "  </tbody>\n",
       "</table>\n",
       "<p>100 rows × 5 columns</p>\n",
       "</div>"
      ],
      "text/plain": [
       "    RiderID  Age  Gender     Occupation    Age_group\n",
       "0         1   27   Other  Self-Employed        adult\n",
       "1         2   39  Female  Self-Employed        adult\n",
       "2         3   48  Female   Professional  older_adult\n",
       "3         4   34    Male          Other        adult\n",
       "4         5   33  Female  Self-Employed        adult\n",
       "..      ...  ...     ...            ...          ...\n",
       "95       96   37    Male  Self-Employed        adult\n",
       "96       97   53  Female          Other  older_adult\n",
       "97       98   19   Other          Other      teenage\n",
       "98       99   61    Male  Self-Employed  older_adult\n",
       "99      100   54  Female     Unemployed  older_adult\n",
       "\n",
       "[100 rows x 5 columns]"
      ]
     },
     "execution_count": 71,
     "metadata": {},
     "output_type": "execute_result"
    }
   ],
   "source": [
    "demo"
   ]
  },
  {
   "cell_type": "code",
   "execution_count": 73,
   "id": "e10a912b",
   "metadata": {
    "scrolled": true
   },
   "outputs": [
    {
     "data": {
      "text/html": [
       "<div>\n",
       "<style scoped>\n",
       "    .dataframe tbody tr th:only-of-type {\n",
       "        vertical-align: middle;\n",
       "    }\n",
       "\n",
       "    .dataframe tbody tr th {\n",
       "        vertical-align: top;\n",
       "    }\n",
       "\n",
       "    .dataframe thead th {\n",
       "        text-align: right;\n",
       "    }\n",
       "</style>\n",
       "<table border=\"1\" class=\"dataframe\">\n",
       "  <thead>\n",
       "    <tr style=\"text-align: right;\">\n",
       "      <th></th>\n",
       "      <th>RiderID</th>\n",
       "    </tr>\n",
       "    <tr>\n",
       "      <th>Age_group</th>\n",
       "      <th></th>\n",
       "    </tr>\n",
       "  </thead>\n",
       "  <tbody>\n",
       "    <tr>\n",
       "      <th>older_adult</th>\n",
       "      <td>57</td>\n",
       "    </tr>\n",
       "    <tr>\n",
       "      <th>adult</th>\n",
       "      <td>29</td>\n",
       "    </tr>\n",
       "    <tr>\n",
       "      <th>teenage</th>\n",
       "      <td>8</td>\n",
       "    </tr>\n",
       "    <tr>\n",
       "      <th>yadult</th>\n",
       "      <td>6</td>\n",
       "    </tr>\n",
       "  </tbody>\n",
       "</table>\n",
       "</div>"
      ],
      "text/plain": [
       "             RiderID\n",
       "Age_group           \n",
       "older_adult       57\n",
       "adult             29\n",
       "teenage            8\n",
       "yadult             6"
      ]
     },
     "execution_count": 73,
     "metadata": {},
     "output_type": "execute_result"
    }
   ],
   "source": [
    "# How many riders are there in each age group?\n",
    "\n",
    "demo.groupby('Age_group').agg({'RiderID' : 'count'}).sort_values( by = 'RiderID' , ascending = False)"
   ]
  },
  {
   "cell_type": "code",
   "execution_count": 79,
   "id": "50772d11",
   "metadata": {},
   "outputs": [],
   "source": [
    "# What is the average number of riders per bus?\n",
    "\n",
    "j2 = demo.merge(ridership ,how ='inner' , on='RiderID')"
   ]
  },
  {
   "cell_type": "code",
   "execution_count": 81,
   "id": "597b236b",
   "metadata": {},
   "outputs": [],
   "source": [
    "j3 = j2.merge(buses ,how ='inner' , on='BusID')"
   ]
  },
  {
   "cell_type": "code",
   "execution_count": 86,
   "id": "33ad1366",
   "metadata": {},
   "outputs": [
    {
     "data": {
      "text/plain": [
       "BusNumber\n",
       "Bus 1     32.0\n",
       "Bus 10    29.0\n",
       "Bus 11    34.0\n",
       "Bus 12    37.0\n",
       "Bus 13    30.0\n",
       "Bus 14    24.0\n",
       "Bus 15    37.0\n",
       "Bus 16    32.0\n",
       "Bus 17    35.0\n",
       "Bus 18    29.0\n",
       "Bus 19    34.0\n",
       "Bus 2     30.0\n",
       "Bus 20    40.0\n",
       "Bus 21    38.0\n",
       "Bus 22    34.0\n",
       "Bus 23    30.0\n",
       "Bus 24    43.0\n",
       "Bus 25    28.0\n",
       "Bus 26    28.0\n",
       "Bus 27    37.0\n",
       "Bus 28    33.0\n",
       "Bus 29    32.0\n",
       "Bus 3     36.0\n",
       "Bus 30    31.0\n",
       "Bus 31    33.0\n",
       "Bus 32    49.0\n",
       "Bus 33    34.0\n",
       "Bus 34    35.0\n",
       "Bus 35    30.0\n",
       "Bus 36    41.0\n",
       "Bus 37    27.0\n",
       "Bus 38    33.0\n",
       "Bus 39    28.0\n",
       "Bus 4     29.0\n",
       "Bus 40    37.0\n",
       "Bus 5     36.0\n",
       "Bus 6     32.0\n",
       "Bus 7     33.0\n",
       "Bus 8     36.0\n",
       "Bus 9     29.0\n",
       "Name: NumberOfRiders, dtype: float64"
      ]
     },
     "execution_count": 86,
     "metadata": {},
     "output_type": "execute_result"
    }
   ],
   "source": [
    "j3.groupby('BusNumber')['NumberOfRiders'].mean().round()"
   ]
  },
  {
   "cell_type": "code",
   "execution_count": 87,
   "id": "858abb53",
   "metadata": {},
   "outputs": [
    {
     "data": {
      "text/plain": [
       "33.0"
      ]
     },
     "execution_count": 87,
     "metadata": {},
     "output_type": "execute_result"
    }
   ],
   "source": [
    "# What is the average number of riders per trip?\n",
    "\n",
    "ridership['NumberOfRiders'].mean().round()"
   ]
  },
  {
   "cell_type": "code",
   "execution_count": 89,
   "id": "8c037d0e",
   "metadata": {},
   "outputs": [
    {
     "data": {
      "text/plain": [
       "Timestamp('2023-12-07 00:00:00')"
      ]
     },
     "execution_count": 89,
     "metadata": {},
     "output_type": "execute_result"
    }
   ],
   "source": [
    "# What is the busiest date for ridership?\n",
    "\n",
    "ridership.loc[ridership['NumberOfRiders'].idxmax()]['Date']"
   ]
  },
  {
   "cell_type": "code",
   "execution_count": 90,
   "id": "64b7539d",
   "metadata": {},
   "outputs": [
    {
     "data": {
      "text/plain": [
       "datetime.time(12, 56)"
      ]
     },
     "execution_count": 90,
     "metadata": {},
     "output_type": "execute_result"
    }
   ],
   "source": [
    "# What is the busiest time for ridership?\n",
    "\n",
    "ridership.loc[ridership['NumberOfRiders'].idxmax()]['Time']"
   ]
  },
  {
   "cell_type": "code",
   "execution_count": 91,
   "id": "9b33fcbe",
   "metadata": {},
   "outputs": [],
   "source": [
    "# How many riders are associated with each bus?\n",
    "\n",
    "j4 = buses.merge(ridership ,how ='inner' , on='BusID')"
   ]
  },
  {
   "cell_type": "code",
   "execution_count": 96,
   "id": "60363de8",
   "metadata": {},
   "outputs": [
    {
     "data": {
      "text/html": [
       "<div>\n",
       "<style scoped>\n",
       "    .dataframe tbody tr th:only-of-type {\n",
       "        vertical-align: middle;\n",
       "    }\n",
       "\n",
       "    .dataframe tbody tr th {\n",
       "        vertical-align: top;\n",
       "    }\n",
       "\n",
       "    .dataframe thead th {\n",
       "        text-align: right;\n",
       "    }\n",
       "</style>\n",
       "<table border=\"1\" class=\"dataframe\">\n",
       "  <thead>\n",
       "    <tr style=\"text-align: right;\">\n",
       "      <th></th>\n",
       "      <th>NumberOfRiders</th>\n",
       "    </tr>\n",
       "    <tr>\n",
       "      <th>BusNumber</th>\n",
       "      <th></th>\n",
       "    </tr>\n",
       "  </thead>\n",
       "  <tbody>\n",
       "    <tr>\n",
       "      <th>Bus 4</th>\n",
       "      <td>324</td>\n",
       "    </tr>\n",
       "    <tr>\n",
       "      <th>Bus 28</th>\n",
       "      <td>295</td>\n",
       "    </tr>\n",
       "    <tr>\n",
       "      <th>Bus 27</th>\n",
       "      <td>293</td>\n",
       "    </tr>\n",
       "    <tr>\n",
       "      <th>Bus 21</th>\n",
       "      <td>264</td>\n",
       "    </tr>\n",
       "    <tr>\n",
       "      <th>Bus 38</th>\n",
       "      <td>263</td>\n",
       "    </tr>\n",
       "    <tr>\n",
       "      <th>Bus 10</th>\n",
       "      <td>262</td>\n",
       "    </tr>\n",
       "    <tr>\n",
       "      <th>Bus 20</th>\n",
       "      <td>242</td>\n",
       "    </tr>\n",
       "    <tr>\n",
       "      <th>Bus 33</th>\n",
       "      <td>239</td>\n",
       "    </tr>\n",
       "    <tr>\n",
       "      <th>Bus 37</th>\n",
       "      <td>216</td>\n",
       "    </tr>\n",
       "    <tr>\n",
       "      <th>Bus 3</th>\n",
       "      <td>216</td>\n",
       "    </tr>\n",
       "    <tr>\n",
       "      <th>Bus 18</th>\n",
       "      <td>205</td>\n",
       "    </tr>\n",
       "    <tr>\n",
       "      <th>Bus 7</th>\n",
       "      <td>200</td>\n",
       "    </tr>\n",
       "    <tr>\n",
       "      <th>Bus 25</th>\n",
       "      <td>197</td>\n",
       "    </tr>\n",
       "    <tr>\n",
       "      <th>Bus 30</th>\n",
       "      <td>185</td>\n",
       "    </tr>\n",
       "    <tr>\n",
       "      <th>Bus 17</th>\n",
       "      <td>176</td>\n",
       "    </tr>\n",
       "    <tr>\n",
       "      <th>Bus 9</th>\n",
       "      <td>173</td>\n",
       "    </tr>\n",
       "    <tr>\n",
       "      <th>Bus 22</th>\n",
       "      <td>169</td>\n",
       "    </tr>\n",
       "    <tr>\n",
       "      <th>Bus 31</th>\n",
       "      <td>164</td>\n",
       "    </tr>\n",
       "    <tr>\n",
       "      <th>Bus 2</th>\n",
       "      <td>150</td>\n",
       "    </tr>\n",
       "    <tr>\n",
       "      <th>Bus 12</th>\n",
       "      <td>149</td>\n",
       "    </tr>\n",
       "    <tr>\n",
       "      <th>Bus 32</th>\n",
       "      <td>148</td>\n",
       "    </tr>\n",
       "    <tr>\n",
       "      <th>Bus 8</th>\n",
       "      <td>144</td>\n",
       "    </tr>\n",
       "    <tr>\n",
       "      <th>Bus 11</th>\n",
       "      <td>134</td>\n",
       "    </tr>\n",
       "    <tr>\n",
       "      <th>Bus 16</th>\n",
       "      <td>130</td>\n",
       "    </tr>\n",
       "    <tr>\n",
       "      <th>Bus 1</th>\n",
       "      <td>129</td>\n",
       "    </tr>\n",
       "    <tr>\n",
       "      <th>Bus 6</th>\n",
       "      <td>128</td>\n",
       "    </tr>\n",
       "    <tr>\n",
       "      <th>Bus 24</th>\n",
       "      <td>128</td>\n",
       "    </tr>\n",
       "    <tr>\n",
       "      <th>Bus 29</th>\n",
       "      <td>127</td>\n",
       "    </tr>\n",
       "    <tr>\n",
       "      <th>Bus 36</th>\n",
       "      <td>123</td>\n",
       "    </tr>\n",
       "    <tr>\n",
       "      <th>Bus 35</th>\n",
       "      <td>120</td>\n",
       "    </tr>\n",
       "    <tr>\n",
       "      <th>Bus 23</th>\n",
       "      <td>118</td>\n",
       "    </tr>\n",
       "    <tr>\n",
       "      <th>Bus 15</th>\n",
       "      <td>110</td>\n",
       "    </tr>\n",
       "    <tr>\n",
       "      <th>Bus 40</th>\n",
       "      <td>110</td>\n",
       "    </tr>\n",
       "    <tr>\n",
       "      <th>Bus 5</th>\n",
       "      <td>107</td>\n",
       "    </tr>\n",
       "    <tr>\n",
       "      <th>Bus 34</th>\n",
       "      <td>105</td>\n",
       "    </tr>\n",
       "    <tr>\n",
       "      <th>Bus 13</th>\n",
       "      <td>89</td>\n",
       "    </tr>\n",
       "    <tr>\n",
       "      <th>Bus 14</th>\n",
       "      <td>72</td>\n",
       "    </tr>\n",
       "    <tr>\n",
       "      <th>Bus 19</th>\n",
       "      <td>69</td>\n",
       "    </tr>\n",
       "    <tr>\n",
       "      <th>Bus 39</th>\n",
       "      <td>57</td>\n",
       "    </tr>\n",
       "    <tr>\n",
       "      <th>Bus 26</th>\n",
       "      <td>57</td>\n",
       "    </tr>\n",
       "  </tbody>\n",
       "</table>\n",
       "</div>"
      ],
      "text/plain": [
       "           NumberOfRiders\n",
       "BusNumber                \n",
       "Bus 4                 324\n",
       "Bus 28                295\n",
       "Bus 27                293\n",
       "Bus 21                264\n",
       "Bus 38                263\n",
       "Bus 10                262\n",
       "Bus 20                242\n",
       "Bus 33                239\n",
       "Bus 37                216\n",
       "Bus 3                 216\n",
       "Bus 18                205\n",
       "Bus 7                 200\n",
       "Bus 25                197\n",
       "Bus 30                185\n",
       "Bus 17                176\n",
       "Bus 9                 173\n",
       "Bus 22                169\n",
       "Bus 31                164\n",
       "Bus 2                 150\n",
       "Bus 12                149\n",
       "Bus 32                148\n",
       "Bus 8                 144\n",
       "Bus 11                134\n",
       "Bus 16                130\n",
       "Bus 1                 129\n",
       "Bus 6                 128\n",
       "Bus 24                128\n",
       "Bus 29                127\n",
       "Bus 36                123\n",
       "Bus 35                120\n",
       "Bus 23                118\n",
       "Bus 15                110\n",
       "Bus 40                110\n",
       "Bus 5                 107\n",
       "Bus 34                105\n",
       "Bus 13                 89\n",
       "Bus 14                 72\n",
       "Bus 19                 69\n",
       "Bus 39                 57\n",
       "Bus 26                 57"
      ]
     },
     "execution_count": 96,
     "metadata": {},
     "output_type": "execute_result"
    }
   ],
   "source": [
    "j4.groupby('BusNumber').agg({'NumberOfRiders' : 'sum'}).sort_values( by = 'NumberOfRiders' , ascending = False)"
   ]
  },
  {
   "cell_type": "code",
   "execution_count": 99,
   "id": "ce3303c7",
   "metadata": {},
   "outputs": [
    {
     "data": {
      "text/plain": [
       "10"
      ]
     },
     "execution_count": 99,
     "metadata": {},
     "output_type": "execute_result"
    }
   ],
   "source": [
    "# How many unique routes are there?\n",
    "routes['RouteID'].nunique()"
   ]
  },
  {
   "cell_type": "code",
   "execution_count": 101,
   "id": "8ac13e6f",
   "metadata": {},
   "outputs": [
    {
     "data": {
      "text/plain": [
       "StartLocation\n",
       "Downtown          1\n",
       "Eastside          1\n",
       "North Station     1\n",
       "South Park        1\n",
       "City Center       1\n",
       "Airport           1\n",
       "University        1\n",
       "Central Market    1\n",
       "Beachside         1\n",
       "Suburbia          1\n",
       "Name: count, dtype: int64"
      ]
     },
     "execution_count": 101,
     "metadata": {},
     "output_type": "execute_result"
    }
   ],
   "source": [
    "# What are the most common start and end locations for routes?\n",
    "\n",
    "routes['StartLocation'].value_counts()"
   ]
  },
  {
   "cell_type": "code",
   "execution_count": 102,
   "id": "015be27b",
   "metadata": {},
   "outputs": [
    {
     "data": {
      "text/plain": [
       "EndLocation\n",
       "Downtown          2\n",
       "Uptown            1\n",
       "Westside          1\n",
       "Circular Quay     1\n",
       "Old Town          1\n",
       "City Hall         1\n",
       "Tech Park         1\n",
       "Farmers Market    1\n",
       "Harbor Point      1\n",
       "Name: count, dtype: int64"
      ]
     },
     "execution_count": 102,
     "metadata": {},
     "output_type": "execute_result"
    }
   ],
   "source": [
    "routes['EndLocation'].value_counts()"
   ]
  },
  {
   "cell_type": "code",
   "execution_count": 104,
   "id": "199652a9",
   "metadata": {},
   "outputs": [
    {
     "data": {
      "text/plain": [
       "27.0"
      ]
     },
     "execution_count": 104,
     "metadata": {},
     "output_type": "execute_result"
    }
   ],
   "source": [
    "# What is the average trip fee for all routes?\n",
    "\n",
    "routes['TripFee'].mean().round()"
   ]
  },
  {
   "cell_type": "code",
   "execution_count": 116,
   "id": "d0029adc",
   "metadata": {},
   "outputs": [],
   "source": [
    "# What is the average take-off and arrival time for all routes?"
   ]
  },
  {
   "cell_type": "code",
   "execution_count": null,
   "id": "89d2eb6d",
   "metadata": {},
   "outputs": [],
   "source": []
  },
  {
   "cell_type": "code",
   "execution_count": 107,
   "id": "6288761f",
   "metadata": {},
   "outputs": [],
   "source": [
    "routes['TakeOffTime_seconds'] = routes['TakeOffTime'].apply(lambda x: x.hour * 3600 + x.minute * 60 + x.second)"
   ]
  },
  {
   "cell_type": "code",
   "execution_count": 109,
   "id": "823ab0e8",
   "metadata": {},
   "outputs": [],
   "source": [
    "routes['ArrivalTime_seconds'] = routes['ArrivalTime'].apply(lambda x: x.hour * 3600 + x.minute * 60 + x.second)"
   ]
  },
  {
   "cell_type": "code",
   "execution_count": null,
   "id": "12947d44",
   "metadata": {},
   "outputs": [],
   "source": []
  },
  {
   "cell_type": "code",
   "execution_count": 142,
   "id": "ecd10ca2",
   "metadata": {},
   "outputs": [
    {
     "data": {
      "text/plain": [
       "Timestamp('1900-01-01 15:12:00')"
      ]
     },
     "execution_count": 142,
     "metadata": {},
     "output_type": "execute_result"
    }
   ],
   "source": [
    "pd.to_datetime(routes['TakeOffTime'] , format='%H:%M:%S').mean()"
   ]
  },
  {
   "cell_type": "code",
   "execution_count": 143,
   "id": "c28ebd35",
   "metadata": {},
   "outputs": [
    {
     "data": {
      "text/plain": [
       "Timestamp('1900-01-01 14:42:00')"
      ]
     },
     "execution_count": 143,
     "metadata": {},
     "output_type": "execute_result"
    }
   ],
   "source": [
    "pd.to_datetime(routes['ArrivalTime'] , format='%H:%M:%S').mean()"
   ]
  },
  {
   "cell_type": "code",
   "execution_count": 117,
   "id": "eaa1bf81",
   "metadata": {},
   "outputs": [
    {
     "data": {
      "text/plain": [
       "RouteID                           1\n",
       "RouteName              Central Line\n",
       "StartLocation              Downtown\n",
       "EndLocation                  Uptown\n",
       "TripFee                          50\n",
       "TakeOffTime                16:00:00\n",
       "ArrivalTime                18:30:00\n",
       "TakeOffTime_seconds           57600\n",
       "ArrivalTime_seconds           66600\n",
       "Name: 0, dtype: object"
      ]
     },
     "execution_count": 117,
     "metadata": {},
     "output_type": "execute_result"
    }
   ],
   "source": [
    "# Which route has the highest trip fee?\n",
    "\n",
    "routes.loc[routes['TripFee'].idxmax()]"
   ]
  },
  {
   "cell_type": "code",
   "execution_count": 122,
   "id": "e2461390",
   "metadata": {},
   "outputs": [
    {
     "data": {
      "text/plain": [
       "RouteName\n",
       "Airport Express      3\n",
       "Beachfront Route     3\n",
       "Central Line         7\n",
       "City Shuttle         2\n",
       "East-West Express    8\n",
       "Market Line          4\n",
       "North Circular       2\n",
       "South Line           1\n",
       "Suburban Line        4\n",
       "University Line      6\n",
       "Name: BusID, dtype: int64"
      ]
     },
     "execution_count": 122,
     "metadata": {},
     "output_type": "execute_result"
    }
   ],
   "source": [
    "# How many buses are assigned to each route?\n",
    "\n",
    "j1.groupby('RouteName')['BusID'].count()"
   ]
  },
  {
   "cell_type": "code",
   "execution_count": null,
   "id": "7896e95b",
   "metadata": {},
   "outputs": [],
   "source": []
  },
  {
   "cell_type": "code",
   "execution_count": 136,
   "id": "cf05a284",
   "metadata": {},
   "outputs": [],
   "source": [
    "# What is the average duration of each route?\n",
    "routes['Duration'] = (pd.to_datetime(routes['ArrivalTime'] , format='%H:%M:%S') - pd.to_datetime(routes['TakeOffTime'] , format='%H:%M:%S')).dt.total_seconds() / 3600"
   ]
  },
  {
   "cell_type": "code",
   "execution_count": 176,
   "id": "13afad1e",
   "metadata": {},
   "outputs": [],
   "source": [
    "routes['Duration'] = abs(routes['Duration'])"
   ]
  },
  {
   "cell_type": "code",
   "execution_count": 177,
   "id": "4e4ad8fb",
   "metadata": {},
   "outputs": [
    {
     "data": {
      "text/html": [
       "<div>\n",
       "<style scoped>\n",
       "    .dataframe tbody tr th:only-of-type {\n",
       "        vertical-align: middle;\n",
       "    }\n",
       "\n",
       "    .dataframe tbody tr th {\n",
       "        vertical-align: top;\n",
       "    }\n",
       "\n",
       "    .dataframe thead th {\n",
       "        text-align: right;\n",
       "    }\n",
       "</style>\n",
       "<table border=\"1\" class=\"dataframe\">\n",
       "  <thead>\n",
       "    <tr style=\"text-align: right;\">\n",
       "      <th></th>\n",
       "      <th>RouteID</th>\n",
       "      <th>RouteName</th>\n",
       "      <th>StartLocation</th>\n",
       "      <th>EndLocation</th>\n",
       "      <th>TripFee</th>\n",
       "      <th>TakeOffTime</th>\n",
       "      <th>ArrivalTime</th>\n",
       "      <th>TakeOffTime_seconds</th>\n",
       "      <th>ArrivalTime_seconds</th>\n",
       "      <th>Duration</th>\n",
       "    </tr>\n",
       "  </thead>\n",
       "  <tbody>\n",
       "    <tr>\n",
       "      <th>0</th>\n",
       "      <td>1</td>\n",
       "      <td>Central Line</td>\n",
       "      <td>Downtown</td>\n",
       "      <td>Uptown</td>\n",
       "      <td>50</td>\n",
       "      <td>16:00:00</td>\n",
       "      <td>18:30:00</td>\n",
       "      <td>57600</td>\n",
       "      <td>66600</td>\n",
       "      <td>2.5</td>\n",
       "    </tr>\n",
       "    <tr>\n",
       "      <th>1</th>\n",
       "      <td>2</td>\n",
       "      <td>East-West Express</td>\n",
       "      <td>Eastside</td>\n",
       "      <td>Westside</td>\n",
       "      <td>13</td>\n",
       "      <td>22:00:00</td>\n",
       "      <td>12:30:00</td>\n",
       "      <td>79200</td>\n",
       "      <td>45000</td>\n",
       "      <td>9.5</td>\n",
       "    </tr>\n",
       "    <tr>\n",
       "      <th>2</th>\n",
       "      <td>3</td>\n",
       "      <td>North Circular</td>\n",
       "      <td>North Station</td>\n",
       "      <td>Circular Quay</td>\n",
       "      <td>31</td>\n",
       "      <td>18:00:00</td>\n",
       "      <td>16:30:00</td>\n",
       "      <td>64800</td>\n",
       "      <td>59400</td>\n",
       "      <td>1.5</td>\n",
       "    </tr>\n",
       "    <tr>\n",
       "      <th>3</th>\n",
       "      <td>4</td>\n",
       "      <td>South Line</td>\n",
       "      <td>South Park</td>\n",
       "      <td>Old Town</td>\n",
       "      <td>29</td>\n",
       "      <td>08:00:00</td>\n",
       "      <td>22:30:00</td>\n",
       "      <td>28800</td>\n",
       "      <td>81000</td>\n",
       "      <td>14.5</td>\n",
       "    </tr>\n",
       "    <tr>\n",
       "      <th>4</th>\n",
       "      <td>5</td>\n",
       "      <td>City Shuttle</td>\n",
       "      <td>City Center</td>\n",
       "      <td>City Hall</td>\n",
       "      <td>19</td>\n",
       "      <td>14:00:00</td>\n",
       "      <td>20:30:00</td>\n",
       "      <td>50400</td>\n",
       "      <td>73800</td>\n",
       "      <td>6.5</td>\n",
       "    </tr>\n",
       "    <tr>\n",
       "      <th>5</th>\n",
       "      <td>6</td>\n",
       "      <td>Airport Express</td>\n",
       "      <td>Airport</td>\n",
       "      <td>Downtown</td>\n",
       "      <td>37</td>\n",
       "      <td>14:00:00</td>\n",
       "      <td>08:30:00</td>\n",
       "      <td>50400</td>\n",
       "      <td>30600</td>\n",
       "      <td>5.5</td>\n",
       "    </tr>\n",
       "    <tr>\n",
       "      <th>6</th>\n",
       "      <td>7</td>\n",
       "      <td>University Line</td>\n",
       "      <td>University</td>\n",
       "      <td>Tech Park</td>\n",
       "      <td>19</td>\n",
       "      <td>14:00:00</td>\n",
       "      <td>08:30:00</td>\n",
       "      <td>50400</td>\n",
       "      <td>30600</td>\n",
       "      <td>5.5</td>\n",
       "    </tr>\n",
       "    <tr>\n",
       "      <th>7</th>\n",
       "      <td>8</td>\n",
       "      <td>Market Line</td>\n",
       "      <td>Central Market</td>\n",
       "      <td>Farmers Market</td>\n",
       "      <td>18</td>\n",
       "      <td>22:00:00</td>\n",
       "      <td>16:30:00</td>\n",
       "      <td>79200</td>\n",
       "      <td>59400</td>\n",
       "      <td>5.5</td>\n",
       "    </tr>\n",
       "    <tr>\n",
       "      <th>8</th>\n",
       "      <td>9</td>\n",
       "      <td>Beachfront Route</td>\n",
       "      <td>Beachside</td>\n",
       "      <td>Harbor Point</td>\n",
       "      <td>19</td>\n",
       "      <td>10:00:00</td>\n",
       "      <td>12:30:00</td>\n",
       "      <td>36000</td>\n",
       "      <td>45000</td>\n",
       "      <td>2.5</td>\n",
       "    </tr>\n",
       "    <tr>\n",
       "      <th>9</th>\n",
       "      <td>10</td>\n",
       "      <td>Suburban Line</td>\n",
       "      <td>Suburbia</td>\n",
       "      <td>Downtown</td>\n",
       "      <td>33</td>\n",
       "      <td>14:00:00</td>\n",
       "      <td>10:30:00</td>\n",
       "      <td>50400</td>\n",
       "      <td>37800</td>\n",
       "      <td>3.5</td>\n",
       "    </tr>\n",
       "  </tbody>\n",
       "</table>\n",
       "</div>"
      ],
      "text/plain": [
       "   RouteID          RouteName   StartLocation     EndLocation  TripFee  \\\n",
       "0        1       Central Line        Downtown          Uptown       50   \n",
       "1        2  East-West Express        Eastside        Westside       13   \n",
       "2        3     North Circular   North Station   Circular Quay       31   \n",
       "3        4         South Line      South Park        Old Town       29   \n",
       "4        5       City Shuttle     City Center       City Hall       19   \n",
       "5        6    Airport Express         Airport        Downtown       37   \n",
       "6        7    University Line      University       Tech Park       19   \n",
       "7        8        Market Line  Central Market  Farmers Market       18   \n",
       "8        9   Beachfront Route       Beachside    Harbor Point       19   \n",
       "9       10      Suburban Line        Suburbia        Downtown       33   \n",
       "\n",
       "  TakeOffTime ArrivalTime  TakeOffTime_seconds  ArrivalTime_seconds  Duration  \n",
       "0    16:00:00    18:30:00                57600                66600       2.5  \n",
       "1    22:00:00    12:30:00                79200                45000       9.5  \n",
       "2    18:00:00    16:30:00                64800                59400       1.5  \n",
       "3    08:00:00    22:30:00                28800                81000      14.5  \n",
       "4    14:00:00    20:30:00                50400                73800       6.5  \n",
       "5    14:00:00    08:30:00                50400                30600       5.5  \n",
       "6    14:00:00    08:30:00                50400                30600       5.5  \n",
       "7    22:00:00    16:30:00                79200                59400       5.5  \n",
       "8    10:00:00    12:30:00                36000                45000       2.5  \n",
       "9    14:00:00    10:30:00                50400                37800       3.5  "
      ]
     },
     "execution_count": 177,
     "metadata": {},
     "output_type": "execute_result"
    }
   ],
   "source": [
    "routes"
   ]
  },
  {
   "cell_type": "code",
   "execution_count": 179,
   "id": "0c92b177",
   "metadata": {},
   "outputs": [
    {
     "data": {
      "text/plain": [
       "6.0"
      ]
     },
     "execution_count": 179,
     "metadata": {},
     "output_type": "execute_result"
    }
   ],
   "source": [
    "routes['Duration'].mean().round()"
   ]
  },
  {
   "cell_type": "code",
   "execution_count": 182,
   "id": "ce6e5892",
   "metadata": {},
   "outputs": [
    {
     "data": {
      "text/plain": [
       "Date\n",
       "Friday        762\n",
       "Monday       1085\n",
       "Saturday      796\n",
       "Sunday       1185\n",
       "Thursday      889\n",
       "Tuesday       983\n",
       "Wednesday     887\n",
       "Name: NumberOfRiders, dtype: int64"
      ]
     },
     "execution_count": 182,
     "metadata": {},
     "output_type": "execute_result"
    }
   ],
   "source": [
    "# How does ridership vary by day of the week?\n",
    "ridership.groupby(pd.to_datetime(ridership['Date']).dt.day_name())['NumberOfRiders'].sum()"
   ]
  },
  {
   "cell_type": "code",
   "execution_count": 185,
   "id": "fa6fd4d3",
   "metadata": {},
   "outputs": [
    {
     "data": {
      "text/plain": [
       "datetime.time(20, 57)"
      ]
     },
     "execution_count": 185,
     "metadata": {},
     "output_type": "execute_result"
    }
   ],
   "source": [
    "# What is the peak time for ridership during the day?\n",
    "\n",
    "ridership.groupby('Time')['NumberOfRiders'].sum().idxmax()"
   ]
  },
  {
   "cell_type": "code",
   "execution_count": 186,
   "id": "20d71ae6",
   "metadata": {},
   "outputs": [
    {
     "data": {
      "text/plain": [
       "Date\n",
       "1      933\n",
       "12    5654\n",
       "Name: NumberOfRiders, dtype: int64"
      ]
     },
     "execution_count": 186,
     "metadata": {},
     "output_type": "execute_result"
    }
   ],
   "source": [
    "# Is there a pattern in the number of riders based on the month?\n",
    "\n",
    "ridership.groupby(pd.to_datetime(ridership['Date']).dt.month)['NumberOfRiders'].sum()"
   ]
  },
  {
   "cell_type": "code",
   "execution_count": 191,
   "id": "794592c2",
   "metadata": {},
   "outputs": [
    {
     "data": {
      "text/plain": [
       "1981"
      ]
     },
     "execution_count": 191,
     "metadata": {},
     "output_type": "execute_result"
    }
   ],
   "source": [
    "# Number Of Riders during weekend?\n",
    "\n",
    "ridership[ridership['Date'].dt.dayofweek.isin([5, 6])]['NumberOfRiders'].sum()"
   ]
  },
  {
   "cell_type": "code",
   "execution_count": 198,
   "id": "eed4442f",
   "metadata": {},
   "outputs": [
    {
     "data": {
      "text/plain": [
       "Age_group\n",
       "older_adult    57.0\n",
       "adult          29.0\n",
       "teenage         8.0\n",
       "yadult          6.0\n",
       "Name: count, dtype: float64"
      ]
     },
     "execution_count": 198,
     "metadata": {},
     "output_type": "execute_result"
    }
   ],
   "source": [
    "# Calculate the percentage of riders in each age group.\n",
    "\n",
    "(  demo['Age_group'].value_counts() / len(demo) ) * 100 "
   ]
  },
  {
   "cell_type": "code",
   "execution_count": 200,
   "id": "6f7102ab",
   "metadata": {},
   "outputs": [
    {
     "data": {
      "text/plain": [
       "Gender\n",
       "Female    46.0\n",
       "Male      43.0\n",
       "Other     39.0\n",
       "Name: Age, dtype: float64"
      ]
     },
     "execution_count": 200,
     "metadata": {},
     "output_type": "execute_result"
    }
   ],
   "source": [
    "# What is the average age for male and female riders?\n",
    "\n",
    "demo.groupby('Gender')['Age'].mean().round()"
   ]
  },
  {
   "cell_type": "code",
   "execution_count": 201,
   "id": "b506e15b",
   "metadata": {},
   "outputs": [
    {
     "data": {
      "text/plain": [
       "Time\n",
       "06:08:00    30.0\n",
       "06:25:00    47.0\n",
       "06:33:00    42.0\n",
       "06:34:00    26.0\n",
       "06:47:00    39.0\n",
       "            ... \n",
       "23:41:00    43.0\n",
       "23:45:00    45.0\n",
       "23:46:00    32.0\n",
       "23:48:00    59.0\n",
       "23:57:00    32.0\n",
       "Name: NumberOfRiders, Length: 183, dtype: float64"
      ]
     },
     "execution_count": 201,
     "metadata": {},
     "output_type": "execute_result"
    }
   ],
   "source": [
    "# How many average riders during different times of the day?\n",
    "\n",
    "ridership.groupby('Time')['NumberOfRiders'].mean().round()"
   ]
  },
  {
   "cell_type": "code",
   "execution_count": 204,
   "id": "53bcc8f9",
   "metadata": {},
   "outputs": [
    {
     "data": {
      "text/plain": [
       "Date\n",
       "Friday       32.0\n",
       "Monday       35.0\n",
       "Saturday     35.0\n",
       "Sunday       32.0\n",
       "Thursday     31.0\n",
       "Tuesday      34.0\n",
       "Wednesday    33.0\n",
       "Name: NumberOfRiders, dtype: float64"
      ]
     },
     "execution_count": 204,
     "metadata": {},
     "output_type": "execute_result"
    }
   ],
   "source": [
    "# Calculate the average number of riders for each day of the week.\n",
    "\n",
    "ridership.groupby(pd.to_datetime(ridership['Date']).dt.day_name())['NumberOfRiders'].mean().round()"
   ]
  },
  {
   "cell_type": "code",
   "execution_count": 213,
   "id": "b2d6d25e",
   "metadata": {
    "scrolled": false
   },
   "outputs": [
    {
     "data": {
      "text/plain": [
       "Date\n",
       "December    33.0\n",
       "January     33.0\n",
       "Name: NumberOfRiders, dtype: float64"
      ]
     },
     "execution_count": 213,
     "metadata": {},
     "output_type": "execute_result"
    }
   ],
   "source": [
    "# What is the average number of riders per month?\n",
    "\n",
    "ridership.groupby(pd.to_datetime(ridership['Date']).dt.month_name())['NumberOfRiders'].mean().round()"
   ]
  },
  {
   "cell_type": "code",
   "execution_count": 220,
   "id": "9f7f62b5",
   "metadata": {
    "scrolled": true
   },
   "outputs": [
    {
     "data": {
      "text/plain": [
       "RouteID\n",
       "1     1271\n",
       "2     1322\n",
       "3      206\n",
       "4      185\n",
       "5      509\n",
       "6      754\n",
       "7      741\n",
       "8      609\n",
       "9      331\n",
       "10     659\n",
       "Name: NumberOfRiders, dtype: int64"
      ]
     },
     "execution_count": 220,
     "metadata": {},
     "output_type": "execute_result"
    }
   ],
   "source": [
    "# Calculate the total ridership for each route.\n",
    "\n",
    "j4.groupby('RouteID')['NumberOfRiders'].sum()"
   ]
  },
  {
   "cell_type": "code",
   "execution_count": 217,
   "id": "56dab581",
   "metadata": {},
   "outputs": [],
   "source": [
    "j5 = buses.merge(routes ,how ='inner' , on='RouteID')"
   ]
  },
  {
   "cell_type": "code",
   "execution_count": 218,
   "id": "dc89e7d1",
   "metadata": {},
   "outputs": [
    {
     "data": {
      "text/plain": [
       "RouteName\n",
       "Airport Express      37\n",
       "Beachfront Route     19\n",
       "Central Line         50\n",
       "City Shuttle         19\n",
       "East-West Express    13\n",
       "Market Line          18\n",
       "North Circular       31\n",
       "South Line           29\n",
       "Suburban Line        33\n",
       "University Line      19\n",
       "Name: TripFee, dtype: int64"
      ]
     },
     "execution_count": 218,
     "metadata": {},
     "output_type": "execute_result"
    }
   ],
   "source": [
    "# Calculate the revenue generated by each route.\n",
    "\n",
    "routes.groupby('RouteName')['TripFee'].sum()"
   ]
  },
  {
   "cell_type": "code",
   "execution_count": null,
   "id": "3b50065b",
   "metadata": {},
   "outputs": [],
   "source": []
  },
  {
   "cell_type": "code",
   "execution_count": 222,
   "id": "ed9b633f",
   "metadata": {},
   "outputs": [],
   "source": [
    "# What is the average trip fee for male and female riders?\n",
    "\n",
    "j6 = j3.merge(routes ,how ='inner' , on='RouteID')"
   ]
  },
  {
   "cell_type": "code",
   "execution_count": 225,
   "id": "37f2822d",
   "metadata": {},
   "outputs": [
    {
     "data": {
      "text/plain": [
       "Gender\n",
       "Female    28.0\n",
       "Male      30.0\n",
       "Other     27.0\n",
       "Name: TripFee, dtype: float64"
      ]
     },
     "execution_count": 225,
     "metadata": {},
     "output_type": "execute_result"
    }
   ],
   "source": [
    "j6.groupby('Gender')['TripFee'].mean().round()"
   ]
  },
  {
   "cell_type": "code",
   "execution_count": 226,
   "id": "a6c14747",
   "metadata": {},
   "outputs": [
    {
     "data": {
      "text/plain": [
       "StartLocation\n",
       "Airport           1\n",
       "Beachside         1\n",
       "Central Market    1\n",
       "City Center       1\n",
       "Downtown          1\n",
       "Eastside          1\n",
       "North Station     1\n",
       "South Park        1\n",
       "Suburbia          1\n",
       "University        1\n",
       "Name: RouteID, dtype: int64"
      ]
     },
     "execution_count": 226,
     "metadata": {},
     "output_type": "execute_result"
    }
   ],
   "source": [
    "# Analyze the distribution of routes based on start and end locations.\n",
    "\n",
    "routes.groupby('StartLocation')['RouteID'].count()"
   ]
  },
  {
   "cell_type": "code",
   "execution_count": 227,
   "id": "c4030660",
   "metadata": {},
   "outputs": [
    {
     "data": {
      "text/plain": [
       "EndLocation\n",
       "Circular Quay     1\n",
       "City Hall         1\n",
       "Downtown          2\n",
       "Farmers Market    1\n",
       "Harbor Point      1\n",
       "Old Town          1\n",
       "Tech Park         1\n",
       "Uptown            1\n",
       "Westside          1\n",
       "Name: RouteID, dtype: int64"
      ]
     },
     "execution_count": 227,
     "metadata": {},
     "output_type": "execute_result"
    }
   ],
   "source": [
    "routes.groupby('EndLocation')['RouteID'].count()"
   ]
  },
  {
   "cell_type": "code",
   "execution_count": 230,
   "id": "702015d6",
   "metadata": {},
   "outputs": [
    {
     "data": {
      "text/plain": [
       "RouteName\n",
       "Airport Express      3\n",
       "Beachfront Route     3\n",
       "Central Line         7\n",
       "City Shuttle         2\n",
       "East-West Express    8\n",
       "Market Line          4\n",
       "North Circular       2\n",
       "South Line           1\n",
       "Suburban Line        4\n",
       "University Line      6\n",
       "Name: BusID, dtype: int64"
      ]
     },
     "execution_count": 230,
     "metadata": {},
     "output_type": "execute_result"
    }
   ],
   "source": [
    "# Calculate the number of buses assigned to each route.\n",
    "\n",
    "j1.groupby('RouteName')['BusID'].count()"
   ]
  },
  {
   "cell_type": "code",
   "execution_count": 233,
   "id": "b52dbd16",
   "metadata": {},
   "outputs": [
    {
     "data": {
      "text/plain": [
       "Occupation     RouteName        \n",
       "Other          Airport Express       8\n",
       "               Beachfront Route      4\n",
       "               Central Line         13\n",
       "               City Shuttle          5\n",
       "               East-West Express     8\n",
       "               Market Line           2\n",
       "               North Circular        2\n",
       "               South Line            2\n",
       "               Suburban Line         2\n",
       "               University Line       4\n",
       "Professional   Airport Express       9\n",
       "               Beachfront Route      1\n",
       "               Central Line         11\n",
       "               City Shuttle          3\n",
       "               East-West Express     4\n",
       "               Market Line           4\n",
       "               North Circular        1\n",
       "               South Line            1\n",
       "               Suburban Line         6\n",
       "               University Line       8\n",
       "Retired        Airport Express       1\n",
       "               Central Line          2\n",
       "               East-West Express     6\n",
       "               Market Line           1\n",
       "               South Line            1\n",
       "               Suburban Line         3\n",
       "               University Line       2\n",
       "Self-Employed  Airport Express       6\n",
       "               Beachfront Route      2\n",
       "               Central Line          6\n",
       "               City Shuttle          3\n",
       "               East-West Express     7\n",
       "               Market Line           6\n",
       "               North Circular        1\n",
       "               South Line            1\n",
       "               Suburban Line         4\n",
       "               University Line       4\n",
       "Student        Beachfront Route      2\n",
       "               Central Line          2\n",
       "               City Shuttle          2\n",
       "               East-West Express     4\n",
       "               Market Line           2\n",
       "               North Circular        1\n",
       "               South Line            1\n",
       "               Suburban Line         2\n",
       "Unemployed     Airport Express       1\n",
       "               Beachfront Route      2\n",
       "               Central Line          6\n",
       "               City Shuttle          3\n",
       "               East-West Express     9\n",
       "               Market Line           2\n",
       "               North Circular        1\n",
       "               Suburban Line         2\n",
       "               University Line       4\n",
       "Name: RouteID, dtype: int64"
      ]
     },
     "execution_count": 233,
     "metadata": {},
     "output_type": "execute_result"
    }
   ],
   "source": [
    "# How the occupation of riders varies across different routes.\n",
    "\n",
    "j6.groupby(['Occupation' , 'RouteName'])['RouteID'].count()"
   ]
  },
  {
   "cell_type": "code",
   "execution_count": 242,
   "id": "d4fbfd0f",
   "metadata": {},
   "outputs": [
    {
     "data": {
      "text/plain": [
       "nan"
      ]
     },
     "execution_count": 242,
     "metadata": {},
     "output_type": "execute_result"
    }
   ],
   "source": [
    "# Average number of riders during morning and evening hours.\n",
    "\n",
    "ridership[(  pd.to_datetime(ridership['Time'] , format='%H:%M:%S') >= '06:00:00'  ) & \n",
    "          (  pd.to_datetime(ridership['Time'] , format='%H:%M:%S') < '12:00:00')]['NumberOfRiders'].mean()"
   ]
  },
  {
   "cell_type": "code",
   "execution_count": 243,
   "id": "f1547fd8",
   "metadata": {},
   "outputs": [
    {
     "data": {
      "text/plain": [
       "nan"
      ]
     },
     "execution_count": 243,
     "metadata": {},
     "output_type": "execute_result"
    }
   ],
   "source": [
    "ridership[(  pd.to_datetime(ridership['Time'] , format='%H:%M:%S') >= '16:00:00'  ) & \n",
    "          (  pd.to_datetime(ridership['Time'] , format='%H:%M:%S') < '22:00:00')]['NumberOfRiders'].mean()"
   ]
  },
  {
   "cell_type": "code",
   "execution_count": 247,
   "id": "8ba62322",
   "metadata": {},
   "outputs": [
    {
     "data": {
      "text/plain": [
       "RiderID\n",
       "1      28.0\n",
       "2      16.0\n",
       "3      37.0\n",
       "4      22.0\n",
       "5      34.5\n",
       "       ... \n",
       "96     28.0\n",
       "97     23.5\n",
       "98     16.0\n",
       "99     35.0\n",
       "100    50.0\n",
       "Name: TripFee, Length: 100, dtype: float64"
      ]
     },
     "execution_count": 247,
     "metadata": {},
     "output_type": "execute_result"
    }
   ],
   "source": [
    "# Calculate the average trip fee per rider.\n",
    "\n",
    "j6.groupby('RiderID')['TripFee'].mean()"
   ]
  },
  {
   "cell_type": "code",
   "execution_count": 249,
   "id": "2175d7da",
   "metadata": {},
   "outputs": [
    {
     "data": {
      "text/plain": [
       "200"
      ]
     },
     "execution_count": 249,
     "metadata": {},
     "output_type": "execute_result"
    }
   ],
   "source": [
    "# Total number of trips recorded.\n",
    "\n",
    "ridership['RecordID'].count()"
   ]
  },
  {
   "cell_type": "code",
   "execution_count": 250,
   "id": "6ea946de",
   "metadata": {},
   "outputs": [
    {
     "data": {
      "text/plain": [
       "200"
      ]
     },
     "execution_count": 250,
     "metadata": {},
     "output_type": "execute_result"
    }
   ],
   "source": [
    "len(ridership)"
   ]
  },
  {
   "cell_type": "code",
   "execution_count": 257,
   "id": "6fed2fb1",
   "metadata": {},
   "outputs": [],
   "source": [
    "# Calculate the percentage change in ridership from month to month.\n",
    "\n",
    "x= ridership.groupby(pd.to_datetime(ridership['Date']).dt.month)['NumberOfRiders'].sum()\n"
   ]
  },
  {
   "cell_type": "code",
   "execution_count": 258,
   "id": "2da5b4f5",
   "metadata": {},
   "outputs": [
    {
     "data": {
      "text/plain": [
       "Date\n",
       "1          NaN\n",
       "12    5.060021\n",
       "Name: NumberOfRiders, dtype: float64"
      ]
     },
     "execution_count": 258,
     "metadata": {},
     "output_type": "execute_result"
    }
   ],
   "source": [
    "x.pct_change()"
   ]
  },
  {
   "cell_type": "code",
   "execution_count": 265,
   "id": "e037afd9",
   "metadata": {},
   "outputs": [
    {
     "data": {
      "text/plain": [
       "Date\n",
       "1    33.0\n",
       "4    33.0\n",
       "Name: NumberOfRiders, dtype: float64"
      ]
     },
     "execution_count": 265,
     "metadata": {},
     "output_type": "execute_result"
    }
   ],
   "source": [
    "# Identify any seasonality trends in ridership over the year.\n",
    "ridership.groupby(pd.to_datetime(ridership['Date']).dt.quarter)['NumberOfRiders'].mean().round()\n"
   ]
  },
  {
   "cell_type": "code",
   "execution_count": 266,
   "id": "c6f519a7",
   "metadata": {},
   "outputs": [
    {
     "data": {
      "text/plain": [
       "0           NaN\n",
       "1           NaN\n",
       "2           NaN\n",
       "3           NaN\n",
       "4           NaN\n",
       "         ...   \n",
       "195    0.034483\n",
       "196    0.181818\n",
       "197    0.095238\n",
       "198   -0.083333\n",
       "199    0.394737\n",
       "Name: NumberOfRiders, Length: 200, dtype: float64"
      ]
     },
     "execution_count": 266,
     "metadata": {},
     "output_type": "execute_result"
    }
   ],
   "source": [
    "# Calculate the percentage change in ridership from month to month for each route.\n",
    "\n",
    "ridership.groupby(['BusID', pd.to_datetime(ridership['Date']).dt.month])['NumberOfRiders'].pct_change()"
   ]
  },
  {
   "cell_type": "code",
   "execution_count": 268,
   "id": "f293617d",
   "metadata": {},
   "outputs": [
    {
     "data": {
      "text/plain": [
       "BusID  Date      \n",
       "1      2023-12-11    45.0\n",
       "       2023-12-14    27.0\n",
       "       2023-12-15    30.0\n",
       "2      2023-12-28    19.0\n",
       "       2023-12-29    22.5\n",
       "                     ... \n",
       "39     2023-12-13    27.0\n",
       "       2023-12-20    30.0\n",
       "40     2023-12-15    32.0\n",
       "       2023-12-17    38.0\n",
       "       2023-12-31    40.0\n",
       "Name: NumberOfRiders, Length: 184, dtype: float64"
      ]
     },
     "execution_count": 268,
     "metadata": {},
     "output_type": "execute_result"
    }
   ],
   "source": [
    "# Calculate the average ridership per route per day.\n",
    "\n",
    "ridership.groupby(['BusID', pd.to_datetime(ridership['Date']).dt.date])['NumberOfRiders'].mean()"
   ]
  },
  {
   "cell_type": "code",
   "execution_count": 269,
   "id": "78e07078",
   "metadata": {},
   "outputs": [
    {
     "data": {
      "text/plain": [
       "Date  Date\n",
       "2023  12      32.872093\n",
       "2024  1       33.321429\n",
       "Name: NumberOfRiders, dtype: float64"
      ]
     },
     "execution_count": 269,
     "metadata": {},
     "output_type": "execute_result"
    }
   ],
   "source": [
    "# The trend in ridership over different months and years.\n",
    "\n",
    "ridership.groupby([pd.to_datetime(ridership['Date']).dt.year, pd.to_datetime(ridership['Date']).dt.month])['NumberOfRiders'].mean()"
   ]
  },
  {
   "cell_type": "code",
   "execution_count": null,
   "id": "b631841c",
   "metadata": {},
   "outputs": [],
   "source": []
  }
 ],
 "metadata": {
  "kernelspec": {
   "display_name": "Python 3 (ipykernel)",
   "language": "python",
   "name": "python3"
  },
  "language_info": {
   "codemirror_mode": {
    "name": "ipython",
    "version": 3
   },
   "file_extension": ".py",
   "mimetype": "text/x-python",
   "name": "python",
   "nbconvert_exporter": "python",
   "pygments_lexer": "ipython3",
   "version": "3.11.5"
  }
 },
 "nbformat": 4,
 "nbformat_minor": 5
}
